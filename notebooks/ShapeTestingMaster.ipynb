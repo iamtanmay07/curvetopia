{
 "cells": [
  {
   "cell_type": "code",
   "execution_count": 1,
   "id": "cbbd6ca8-16d5-427f-b64b-61668527cede",
   "metadata": {},
   "outputs": [
    {
     "name": "stdout",
     "output_type": "stream",
     "text": [
      "The identified shape is: Not a Regular Curve\n"
     ]
    }
   ],
   "source": [
    "import pandas as pd\n",
    "import numpy as np\n",
    "# Assuming your Jupyter Notebook is in the root directory of your project and Shape_Identification_Module.py is in the src/ directory\n",
    "import sys\n",
    "sys.path.append('../src/')  # Adjust this path if your directory structure is different\n",
    "from Shape_Identification_Module import is_straight_line, is_circle, is_rectangle, is_regular_polygon, is_star_shape, is_ellipse\n",
    "\n",
    "def load_data(file_path):\n",
    "    \"\"\" Load data from a CSV file and return it as a numpy array. \"\"\"\n",
    "    return pd.read_csv(file_path).values\n",
    "\n",
    "def identify_shape(points):\n",
    "    \"\"\" Identify the shape of the given points. \"\"\"\n",
    "    if is_straight_line(points):\n",
    "        return \"Straight Line\"\n",
    "    elif is_circle(points):\n",
    "        return \"Circle\"\n",
    "    elif is_ellipse(points):\n",
    "        return \"Ellipse\"\n",
    "    elif is_rectangle(points):\n",
    "        return \"Rectangle\"\n",
    "    elif is_regular_polygon(points, len(points)):  # Assuming the number of sides is known\n",
    "        return \"Regular Polygon\"\n",
    "    elif is_star_shape(points):\n",
    "        return \"Star Shape\"\n",
    "    else:\n",
    "        return \"Not a Regular Curve\"\n",
    "\n",
    "# Example data load\n",
    "# points = load_data('../data/raw/sample_polyline2.csv') # this is for straightLine Testing\n",
    "points = load_data('../data/EllipseShape.csv')\n",
    "\n",
    "# Identify the shape\n",
    "shape_type = identify_shape(points)\n",
    "print(f\"The identified shape is: {shape_type}\")\n"
   ]
  }
 ],
 "metadata": {
  "kernelspec": {
   "display_name": "Python (curvetopia)",
   "language": "python",
   "name": "curvetopia"
  },
  "language_info": {
   "codemirror_mode": {
    "name": "ipython",
    "version": 3
   },
   "file_extension": ".py",
   "mimetype": "text/x-python",
   "name": "python",
   "nbconvert_exporter": "python",
   "pygments_lexer": "ipython3",
   "version": "3.12.4"
  }
 },
 "nbformat": 4,
 "nbformat_minor": 5
}
