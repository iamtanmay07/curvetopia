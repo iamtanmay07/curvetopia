{
 "cells": [
  {
   "cell_type": "code",
   "execution_count": 1,
   "id": "fc30d7fe-e7fc-48b5-9437-8441a6718374",
   "metadata": {},
   "outputs": [],
   "source": [
    "import pandas as pd"
   ]
  },
  {
   "cell_type": "code",
   "execution_count": 2,
   "id": "cb7eaef8-57bd-42cb-b221-b4162d9b16ed",
   "metadata": {},
   "outputs": [],
   "source": [
    "# Define your data as a dictionary\n",
    "data = {\n",
    "    'x': [0, 1, 2, 3, 4],\n",
    "    'y': [0, 2, 3, 3, 5]\n",
    "}\n",
    "\n",
    "# Convert the dictionary to a DataFrame\n",
    "df = pd.DataFrame(data)\n",
    "\n",
    "# Define the path relative to the notebook location\n",
    "csv_path = '../data/raw/sample_polyline.csv'\n",
    "\n",
    "# Save the DataFrame to a CSV file\n",
    "df.to_csv(csv_path, index=False)"
   ]
  },
  {
   "cell_type": "code",
   "execution_count": null,
   "id": "56b3d526-a268-4126-b14b-9c09d0d1d7d5",
   "metadata": {},
   "outputs": [],
   "source": []
  },
  {
   "cell_type": "code",
   "execution_count": null,
   "id": "7ecf2b45-c425-46b3-bd30-d56c0b3c65bc",
   "metadata": {},
   "outputs": [],
   "source": []
  }
 ],
 "metadata": {
  "kernelspec": {
   "display_name": "Python (curvetopia)",
   "language": "python",
   "name": "curvetopia"
  },
  "language_info": {
   "codemirror_mode": {
    "name": "ipython",
    "version": 3
   },
   "file_extension": ".py",
   "mimetype": "text/x-python",
   "name": "python",
   "nbconvert_exporter": "python",
   "pygments_lexer": "ipython3",
   "version": "3.12.4"
  }
 },
 "nbformat": 4,
 "nbformat_minor": 5
}
