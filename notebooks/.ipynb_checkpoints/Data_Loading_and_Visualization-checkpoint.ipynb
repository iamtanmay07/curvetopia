{
 "cells": [
  {
   "cell_type": "code",
   "execution_count": null,
   "id": "29e90cc2-34c0-4931-98bb-31707b6f774b",
   "metadata": {},
   "outputs": [],
   "source": [
    "import numpy as np\n",
    "import matplotlib.pyplot as plt\n",
    "import pandas as pd"
   ]
  },
  {
   "cell_type": "code",
   "execution_count": null,
   "id": "c0b0a629-4eb8-4024-8fc9-a28d53360e39",
   "metadata": {},
   "outputs": [],
   "source": [
    "def load_polyline(csv_path):\n",
    "    \"\"\"Load polyline data from a CSV file.\"\"\"\n",
    "    data = pd.read_csv(csv_path, header=None)\n",
    "    return data.values  # Convert DataFrame to numpy array for easier handling.\n",
    "\n",
    "def plot_polyline(polyline):\n",
    "    \"\"\"Plot a polyline given numpy array of points.\"\"\"\n",
    "    plt.figure(figsize=(8, 8))\n",
    "    plt.plot(polyline[:, 0], polyline[:, 1], marker='o', linestyle='-')\n",
    "    plt.title(\"Visualization of the Polyline\")\n",
    "    plt.xlabel(\"X coordinate\")\n",
    "    plt.ylabel(\"Y coordinate\")\n",
    "    plt.grid(True)\n",
    "    plt.axis('equal')  # Ensure the x and y axes have the same scale.\n",
    "    plt.show()"
   ]
  },
  {
   "cell_type": "code",
   "execution_count": null,
   "id": "d3b29896-0761-47b1-8a78-5012fba0b83e",
   "metadata": {},
   "outputs": [],
   "source": [
    "# Update the path to where your sample data is stored\n",
    "csv_path = '../data/raw/sample_polyline.csv'\n",
    "polyline = load_polyline(csv_path)\n",
    "plot_polyline(polyline)"
   ]
  }
 ],
 "metadata": {
  "kernelspec": {
   "display_name": "Python 3 (ipykernel)",
   "language": "python",
   "name": "python3"
  },
  "language_info": {
   "codemirror_mode": {
    "name": "ipython",
    "version": 3
   },
   "file_extension": ".py",
   "mimetype": "text/x-python",
   "name": "python",
   "nbconvert_exporter": "python",
   "pygments_lexer": "ipython3",
   "version": "3.12.4"
  }
 },
 "nbformat": 4,
 "nbformat_minor": 5
}
